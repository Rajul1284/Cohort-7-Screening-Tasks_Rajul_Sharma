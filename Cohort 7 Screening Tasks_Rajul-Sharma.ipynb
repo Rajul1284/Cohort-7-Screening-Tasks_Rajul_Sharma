{
 "cells": [
  {
   "cell_type": "code",
   "execution_count": null,
   "id": "994778bd-038b-4bc8-b4ed-1c69fa62eaec",
   "metadata": {
    "tags": []
   },
   "outputs": [],
   "source": [
    "import numpy as np\n",
    "\n",
    "# Importing standard Qiskit libraries\n",
    "from qiskit import QuantumCircuit, transpile, Aer, IBMQ, execute\n",
    "from qiskit.tools.jupyter import *\n",
    "from qiskit.visualization import *\n",
    "from ibm_quantum_widgets import *\n",
    "from qiskit.providers.aer import QasmSimulator\n",
    "\n",
    "# Loading your IBM Quantum account(s)\n",
    "provider = IBMQ.load_account()"
   ]
  },
  {
   "cell_type": "markdown",
   "id": "584e3c95-939d-4ba4-beac-abbf0cd1fb95",
   "metadata": {},
   "source": [
    "Task 1 find the largest number"
   ]
  },
  {
   "cell_type": "markdown",
   "id": "dc10737c-9446-4333-910c-6a3cf72dde1e",
   "metadata": {},
   "source": [
    "-->>You have two integers, either positive or negative, and the challenge is to generate a quantum algorithm that returns which is the larger number. Consider an appropriate number of qubits and explain why your proposal is valid for all kinds of numbers in case you have an infinite number of qubits.\n",
    "\n",
    "\n",
    "def find_the_largest_number (int:number_1, int ,number_2):\n",
    "     “””\n",
    "number_1 : integer value that is the first parameter to the function,\n",
    "number_2 : integer value that is the second parameter to the function.\n",
    "Return the largest number between number_1 and number_2\n",
    "     “””\n",
    "\n",
    "     # use a framework that works with quantum circuits, qiskit, cirq, pennylane, etc. \n",
    "\n",
    "       \n",
    "\n",
    "      # consider print your quantum circuit,"
   ]
  },
  {
   "cell_type": "markdown",
   "id": "6202ceea-b1bd-48ea-bed9-a212fbd6003d",
   "metadata": {},
   "source": [
    "Solution Task 1 "
   ]
  },
  {
   "cell_type": "code",
   "execution_count": 53,
   "id": "da4fdce1-5fb0-4056-ae6a-f753720bd25d",
   "metadata": {},
   "outputs": [
    {
     "name": "stdout",
     "output_type": "stream",
     "text": [
      "5\n",
      "10\n",
      "-3\n"
     ]
    }
   ],
   "source": [
    "from qiskit import QuantumCircuit, Aer, execute\n",
    "\n",
    "def find_the_largest_number(number_1, number_2):\n",
    "    # determine the number of qubits needed\n",
    "    n = max(abs(number_1), abs(number_2)).bit_length() + 1     #The number of qubits needed in the quantum circuit is determined by finding the bit length of the larger number and adding 1.\n",
    "\n",
    "    # initialize the circuit\n",
    "    qc = QuantumCircuit(n, n)\n",
    "\n",
    "    # load the numbers into the circuit\n",
    "    qc.x(range(n))                           #The two numbers are loaded into the quantum circuit using an X gate for each qubit,  \n",
    "    if number_1 < 0:                         #and an additional X gate for the most significant bit if the number is negative.\n",
    "        qc.x(n-1)                            #The barrier function is called to visually separate the initialization from the computation.\n",
    "    qc.barrier()\n",
    "\n",
    "    # perform the comparison\n",
    "    for i in range(n-1):            #The circuit then performs the comparison of the two numbers by applying a CNOT gate between each qubit of number_1 and the corresponding qubit of number_2. \n",
    "        qc.cx(i, n-1)\n",
    "    qc.barrier()                    #This operation checks if number_1 is greater than or equal to number_2.\n",
    "\n",
    "    # measure the qubits\n",
    "    qc.measure(range(n), range(n))\n",
    "\n",
    "    # run the circuit on a simulator\n",
    "    simulator = Aer.get_backend('qasm_simulator')\n",
    "    result = execute(qc, simulator, shots=1).result()\n",
    "    counts = result.get_counts(qc)\n",
    "\n",
    "    # check if any comparison resulted in equality\n",
    "    if counts:\n",
    "        for count in counts:\n",
    "            if count[n-1] == '0':\n",
    "                return number_2\n",
    "            else:\n",
    "                return number_1\n",
    "    else:\n",
    "        return \"Error: no measurements taken\"\n",
    "\n",
    "\n",
    "\n",
    "    \n",
    "    \n",
    "    # Test the function with some example inputs\n",
    "print(find_the_largest_number(5, -6))  # expected output: 5               \n",
    "print(find_the_largest_number(10, 5))  # expected output: 10\n",
    "print(find_the_largest_number(-3, -5))  # expected output: -3\n"
   ]
  },
  {
   "cell_type": "markdown",
   "id": "bd583504-6327-4d51-bb7f-867f3aad304d",
   "metadata": {},
   "source": [
    "Task 2 Is Rectangle?"
   ]
  },
  {
   "cell_type": "markdown",
   "id": "e9dea71b-b31a-405b-8cf3-866d991afb18",
   "metadata": {},
   "source": [
    "Task 2 Is Rectangle?\n",
    "\n",
    "\n",
    "Given four positive integers A, B, C, D, determine if there’s a rectangle such that the lengths of its sides are A, B, C and D (in any order).\n",
    "\n",
    "If any such rectangle exist return 1 else return 0.\n",
    "\n",
    "def is_rectangle (int:A, int:B, int:C, int:D):\n",
    "     “””\n",
    "A : integer value that is one side of the rectangle.\n",
    "B : integer value that is one side of the rectangle.\n",
    "C : integer value that is one side of the rectangle.\n",
    "D : integer value that is one side of the rectangle.\n",
    "Return if is a rectangle return 1 else 0. \n",
    "     “””\n",
    "\n",
    "     # use a framework that works with quantum circuits, qiskit, cirq, pennylane, etc. \n",
    "\n",
    "      # consider print your quantum circuit,\n",
    "\n",
    "\n",
    "Example:\n",
    "\n",
    "A = is_rectangle(5,6,6,5)\n",
    "print(A)\n",
    "\n",
    "“1”\n"
   ]
  },
  {
   "cell_type": "markdown",
   "id": "e405bc00-45ad-4dae-8f62-e3153f85d8e0",
   "metadata": {},
   "source": [
    "Solution Task 2"
   ]
  },
  {
   "cell_type": "code",
   "execution_count": null,
   "id": "11e09cd8-b528-4f70-8ac6-827b022dbdad",
   "metadata": {},
   "outputs": [],
   "source": [
    "from qiskit import QuantumCircuit, Aer, execute\n",
    "\n",
    "def is_rectangle(A, B, C, D):\n",
    "    # create a quantum circuit with 4 qubits and 6 classical bits\n",
    "    qc = QuantumCircuit(6, 6)\n",
    "    #This defines a function is_rectangle that takes four integers A, B, C, and D as input, and creates a quantum circuit with 4 qubits and 6 classical bits.\n",
    "    \n",
    "    # compare A and B\n",
    "    qc.x(0)                #This block of code compares the values of A and B.\n",
    "    qc.x(1)                #First, it applies the X gate to qubits 0 and 1 to put them in the state |1>.\n",
    "    qc.cswap(0, 1, 2)      #Then, it applies the controlled swap (cswap) gate to qubits 0, 1, and 2. The cswap gate swaps the values of qubits 0 and 1 conditioned on the value of qubit 2.\n",
    "    qc.x(0)                #If qubit 2 is in the state |1>, then the values of qubits 0 and 1 will be swapped. \n",
    "    qc.x(1)                #Finally, the X gate is applied again to qubits 0 and 1 to restore their original state.#\n",
    "                     \n",
    "                    \n",
    "                   \n",
    "                   \n",
    "\n",
    "  \n",
    "   # compare A and C\n",
    "    qc.x(0)                # This block of code compares the values of A and C.  \n",
    "    qc.x(2)                #It follows the same structure as the previous block, but applies the X gate to qubits 0 and 2,\n",
    "    qc.cswap(0, 2, 3)      #and uses qubits 2 and 3 as the control and target qubits in the cswap gate.\n",
    "    qc.x(0) \n",
    "    qc.x(2)\n",
    "\n",
    "    # compare A and D\n",
    "    qc.x(0)               #This block of code compares the values of A and D.\n",
    "    qc.x(3)               # It follows the same structure as the previous block, but applies the X gate to qubits 0 and 3, and \n",
    "    qc.cswap(0, 3, 1)     #uses qubits 3 and 1 as the control and target qubits in the cswap gate.\n",
    "    qc.x(0)\n",
    "    qc.x(3)\n",
    "\n",
    "    # compare B and C\n",
    "    qc.x(1)               #This block of code compares the values of B and C.\n",
    "    qc.x(2)               # It follows the same structure as the previous blocks, but applies the X gate to qubits 1 and 2, and \n",
    "    qc.cswap(1, 2, 3)     #uses qubits 2 and 3 as the control and target qubits in the cswap gate.\n",
    "    qc.x(1)\n",
    "    qc.x(2)\n",
    "\n",
    "    # compare B and D\n",
    "    qc.x(1)               #This block of code compares the values of B and D. \n",
    "    qc.x(3)               #It follows the same structure as the previous blocks, but applies the X gate to qubits 1 and 3, and \n",
    "    qc.cswap(1, 3, 2)     #uses qubits 3 and 2 as the control and target qubits in the cswap gate.\n",
    "    qc.x(1)\n",
    "    qc.x(3)\n",
    "\n",
    "    # compare C and D\n",
    "    qc.x(2)\n",
    "    qc.x(3)\n",
    "    qc.cswap(2, 3, 4)\n",
    "    qc.x(2)\n",
    "    qc.x(3)\n",
    "\n",
    "    # measure the qubits\n",
    "    qc.measure(range(3), range(3, 6))    #The function qc.measure() takes the qubits that need to be measured as the first argument (in this case, all four qubits), \n",
    "                                         #and the output classical bits where the measurement result will be stored as the second argument\n",
    "\n",
    "        \n",
    "    # To obtain the result of the measurement, the quantum circuit is executed using a simulator\n",
    "    simulator = Aer.get_backend('qasm_simulator')\n",
    "    result = execute(qc, simulator, shots=1).result()\n",
    "    counts = result.get_counts(qc)\n",
    "\n",
    "    # check if any comparison resulted in equality\n",
    "    for count in counts:                     #the function checks if any comparison resulted in equality.   If it is, we know that at least one of the comparisons resulted in equality, and hence we return 1. Otherwise, we return 0.\n",
    "        if count[0] == '1':                  #Since we only have one shot, the length of the counts dictionary is 1.\n",
    "            return 1                         #We iterate through the keys of the dictionary and check if the first bit is '1'.\n",
    "                                            #If it is, we know that at least one of the comparisons resulted in equality, and hence we return 1. Otherwise, we return 0.\n",
    "\n",
    "    return 0\n",
    " \n",
    "#EXaple\n",
    "A = is_rectangle(5, 6, 6, 5)\n",
    "print(A)\n",
    "\n",
    "\n"
   ]
  },
  {
   "cell_type": "markdown",
   "id": "d30185ca-d97e-469d-b085-0c719154a046",
   "metadata": {},
   "source": [
    "TASK 3 : "
   ]
  },
  {
   "cell_type": "markdown",
   "id": "893d282d-84ec-447e-a596-55bd550f0372",
   "metadata": {},
   "source": [
    "Task 3 QSVM\n",
    "\n",
    "Generate a Quantum Support Vector Machine (QSVM) using the iris dataset and \n",
    "try to propose a kernel from a parametric quantum circuit to classify the three classes(setosa, versicolor, virginica) \n",
    "using the one-vs-all format, the kernel only works as binary classification.\n",
    "Identify the proposal with the lowest number of qubits and depth to obtain higher accuracy. \n",
    "You can use the UU† format or using the Swap-Test.\n"
   ]
  },
  {
   "cell_type": "code",
   "execution_count": null,
   "id": "9bbbfca7-a99e-4fd0-9555-5928cec5dfa6",
   "metadata": {},
   "outputs": [],
   "source": [
    "import numpy as np\n",
    "from qiskit import Aer, QuantumCircuit, ClassicalRegister, QuantumRegister\n",
    "from qiskit.aqua import QuantumInstance\n",
    "from qiskit.aqua.algorithms import QSVM\n",
    "from qiskit.aqua.components.multiclass_extensions import OneAgainstRest\n",
    "from qiskit.aqua.components.feature_maps import RawFeatureVector\n",
    "from qiskit.circuit.library import ZZFeatureMap\n",
    "from qiskit.aqua.components.variational_forms import RYRZ\n",
    "from qiskit.aqua.utils import split_dataset_to_data_and_labels, map_label_to_class_name\n",
    "from qiskit.ml.datasets import iris\n",
    "\n",
    "\n",
    "from sklearn.datasets import load_iris\n",
    "from qiskit import QuantumCircuit, Aer, execute\n",
    "import numpy as np\n",
    "\n",
    "\n",
    "feature_dim = 2 # We will use only two features to reduce the number of qubits required\n",
    "\n",
    "_, iris_labels = iris(training_size=100, n=feature_dim, plot_data=False)\n",
    "iris_labels = np.where(iris_labels == 0, -1, iris_labels) # Set the labels to be -1 or 1\n",
    "training_input, test_input, train_labels, test_labels = split_dataset_to_data_and_labels(iris(training_size=100, n=feature_dim, plot_data=False))\n",
    "\n",
    "\n",
    "from qiskit import QuantumCircuit, QuantumRegister, ClassicalRegister, Aer\n",
    "from qiskit.quantum_info import state_fidelity\n",
    "\n",
    "# Define the quantum circuit kernel using Swap-Test\n",
    "def quantum_kernel(x1, x2, num_qubits=2):\n",
    "    # Create a quantum circuit with three registers\n",
    "    q = QuantumRegister(num_qubits * 3, 'q')\n",
    "    c = ClassicalRegister(1, 'c')\n",
    "    qc = QuantumCircuit(q, c)\n",
    "\n",
    "    # Prepare the first data point\n",
    "    for i in range(num_qubits):\n",
    "        qc.h(q[i])\n",
    "        qc.ry(x1[i], q[i])\n",
    "\n",
    "    # Prepare the second data point\n",
    "    for i in range(num_qubits):\n",
    "        qc.h(q[num_qubits+i])\n",
    "        qc.ry(x2[i], q[num_qubits+i])\n",
    "\n",
    "    # Prepare the ancilla qubit\n",
    "    qc.h(q[num_qubits*2])\n",
    "\n",
    "    # Implement the swap test\n",
    "    for i in range(num_qubits):\n",
    "        qc.cswap(q[num_qubits*2], q[i], q[num_qubits+i])\n",
    "\n",
    "    # Measure the ancilla qubit\n",
    "    qc.measure(q[num_qubits*2], c)\n",
    "\n",
    "    # Execute the circuit\n",
    "    backend = Aer.get_backend('qasm_simulator')\n",
    "    shots = 1024\n",
    "    results = backend.run(qc, shots=shots).result()\n",
    "    counts = results.get_counts()\n",
    "\n",
    "    # Calculate the fidelity\n",
    "    if '0' in counts:\n",
    "        return 1 - counts['0']/shots\n",
    "    else:\n",
    "        return 0.0\n",
    "\n",
    "# Define the QSVM and set its hyperparameters\n",
    "qsvm = QSVM(quantum_instance=QuantumInstance(Aer.get_backend('qasm_simulator')), \n",
    "            feature_map=RawFeatureVector(feature_dimension=2),\n",
    "            multiclass_extension=OneAgainstRest(),\n",
    "            kernel_matrix=quantum_kernel)\n",
    "\n",
    "# Train the QSVM\n",
    "qsvm.fit(train_input, train_labels)\n",
    "\n",
    "# Evaluate the QSVM\n",
    "predicted_labels = qsvm.predict(test_input)\n",
    "accuracy = np.mean(predicted_labels == test_labels)\n",
    "print(\"Accuracy:\", accuracy)\n",
    "\n"
   ]
  },
  {
   "cell_type": "markdown",
   "id": "93cbbdaf-77bc-4c6f-8f57-c57315878149",
   "metadata": {},
   "source": [
    "Task 4 :Random Circuits"
   ]
  },
  {
   "cell_type": "markdown",
   "id": "8b2edbf4-2d3d-4aa8-9121-ecb48fc882f9",
   "metadata": {},
   "source": [
    "Task 4 Random Circuits\n",
    "Design a function that generates a random quantum circuit by considering as parameters the number of qubits, \n",
    "the number of depths, and the base of gates to be used. You could only use the quantum gates of 1 and 2 qubits.\n",
    "\n",
    "def random_circuit (int:num_qubits, int:depth, list:basis_gates):\n",
    "     “””\n",
    "num_qubits : integer value that is the number of qubits.\n",
    "depth: integer value that is the depth for the random circuit.\n",
    "basis_gates : A list that contains the basis gates to generate the quantum circuit.\n",
    "Return the quantum circuit\n",
    "     “””\n",
    "\n",
    "     # use a framework that works with quantum circuits, qiskit, cirq, pennylane, etc. \n",
    "\n",
    "      # print your quantum circuit,\n"
   ]
  },
  {
   "cell_type": "code",
   "execution_count": null,
   "id": "87a2edef-008b-466d-abf5-d83a47501563",
   "metadata": {},
   "outputs": [],
   "source": [
    "from qiskit import QuantumCircuit, QuantumRegister\n",
    "import random\n",
    "\n",
    "def random_circuit(num_qubits, depth, basis_gates):\n",
    "    # Create a quantum register with num_qubits qubits\n",
    "    qreg = QuantumRegister(num_qubits, 'q')\n",
    "    qc = QuantumCircuit(qreg)\n",
    "\n",
    "    # Apply random gates from the basis gates list to each qubit at each depth\n",
    "    for d in range(depth):\n",
    "        for q in range(num_qubits):\n",
    "            # Choose a random gate from the basis gates list\n",
    "            gate = random.choice(basis_gates)\n",
    "            if len(gate) == 1:\n",
    "                # If the gate has only one qubit, apply it to the current qubit\n",
    "                qc.append(gate[0], [qreg[q]])\n",
    "            elif len(gate) == 2:\n",
    "                # If the gate has two qubits, choose a random target qubit and apply the gate to the current qubit and the target qubit\n",
    "                target_qubit = random.choice([i for i in range(num_qubits) if i != q])\n",
    "                qc.append(gate[0], [qreg[q], qreg[target_qubit]])\n",
    "            else:\n",
    "                raise ValueError('Invalid gate: {}'.format(gate))\n",
    "    return qc\n"
   ]
  },
  {
   "cell_type": "code",
   "execution_count": null,
   "id": "22169717-7702-4922-b77c-02888572fd35",
   "metadata": {},
   "outputs": [],
   "source": [
    "from qiskit import Aer, execute\n",
    "\n",
    "# Define the number of qubits, depth, and basis gates\n",
    "num_qubits = 3\n",
    "depth = 2\n",
    "basis_gates = [[('rx', 0.5)], [('ry', 0.5)], [('cx', 0), ('cz', 0)]]\n",
    "\n",
    "# Generate a random circuit\n",
    "qc = random_circuit(num_qubits, depth, basis_gates)\n",
    "\n",
    "# Print the circuit\n",
    "print(qc)\n",
    "\n",
    "# Run the circuit on a simulator and get the results\n",
    "backend = Aer.get_backend('qasm_simulator')\n",
    "results = execute(qc, backend).result().get_counts()\n",
    "print(results)\n"
   ]
  },
  {
   "cell_type": "code",
   "execution_count": null,
   "id": "65761269-941f-405a-ac44-236ebbf88716",
   "metadata": {},
   "outputs": [],
   "source": []
  },
  {
   "cell_type": "raw",
   "id": "4ccc665d-7f14-48aa-8579-20049e4bb2d8",
   "metadata": {},
   "source": []
  }
 ],
 "metadata": {
  "kernelspec": {
   "display_name": "Python 3 (ipykernel)",
   "language": "python",
   "name": "python3"
  },
  "language_info": {
   "codemirror_mode": {
    "name": "ipython",
    "version": 3
   },
   "file_extension": ".py",
   "mimetype": "text/x-python",
   "name": "python",
   "nbconvert_exporter": "python",
   "pygments_lexer": "ipython3",
   "version": "3.8.15"
  },
  "widgets": {
   "application/vnd.jupyter.widget-state+json": {
    "state": {
     "07d244fa58364735afbc0d828c1f57a1": {
      "model_module": "@jupyter-widgets/base",
      "model_module_version": "1.2.0",
      "model_name": "LayoutModel",
      "state": {
       "grid_template_areas": "\n                                       \". . . . right \"\n                                        ",
       "grid_template_columns": "20% 20% 20% 20% 20%",
       "width": "100%"
      }
     },
     "093111abfba64cf3b5f359c882e11f2b": {
      "model_module": "@jupyter-widgets/controls",
      "model_module_version": "1.5.0",
      "model_name": "HTMLModel",
      "state": {
       "layout": "IPY_MODEL_244ee816a0d64b9b90f3fe4fa353e46b",
       "style": "IPY_MODEL_3b48c9e681ea40c081d0bdccd7d3d937",
       "value": "<h5>Backend</h5>"
      }
     },
     "10fdfb06128b4172a10d3e3d123553c7": {
      "model_module": "@jupyter-widgets/base",
      "model_module_version": "1.2.0",
      "model_name": "LayoutModel",
      "state": {}
     },
     "14a7dad1db814ef28fec1b03e941811b": {
      "model_module": "@jupyter-widgets/controls",
      "model_module_version": "1.5.0",
      "model_name": "DescriptionStyleModel",
      "state": {
       "description_width": ""
      }
     },
     "204851c77fbb4702b711ab760fdc141e": {
      "model_module": "@jupyter-widgets/controls",
      "model_module_version": "1.5.0",
      "model_name": "DescriptionStyleModel",
      "state": {
       "description_width": ""
      }
     },
     "244ee816a0d64b9b90f3fe4fa353e46b": {
      "model_module": "@jupyter-widgets/base",
      "model_module_version": "1.2.0",
      "model_name": "LayoutModel",
      "state": {
       "width": "145px"
      }
     },
     "2abdfbcf62f54f31a31d5923f0bbef7f": {
      "model_module": "@jupyter-widgets/base",
      "model_module_version": "1.2.0",
      "model_name": "LayoutModel",
      "state": {
       "margin": "0px 0px 0px 37px",
       "width": "600px"
      }
     },
     "2f94142cc2554c5a949cddd1e677b945": {
      "model_module": "@jupyter-widgets/controls",
      "model_module_version": "1.5.0",
      "model_name": "ButtonStyleModel",
      "state": {}
     },
     "3b48c9e681ea40c081d0bdccd7d3d937": {
      "model_module": "@jupyter-widgets/controls",
      "model_module_version": "1.5.0",
      "model_name": "DescriptionStyleModel",
      "state": {
       "description_width": ""
      }
     },
     "426017c7d103411c81aec6de3b5eb336": {
      "model_module": "@jupyter-widgets/controls",
      "model_module_version": "1.5.0",
      "model_name": "HTMLModel",
      "state": {
       "layout": "IPY_MODEL_9872fa4f99144169be74bbc4b0a4024f",
       "style": "IPY_MODEL_204851c77fbb4702b711ab760fdc141e",
       "value": "<h5>Queue</h5>"
      }
     },
     "4d13a944cfe348f499ec2070c63a1b98": {
      "model_module": "@jupyter-widgets/base",
      "model_module_version": "1.2.0",
      "model_name": "LayoutModel",
      "state": {
       "margin": "0px 0px 10px 0px"
      }
     },
     "4e56708bcb904770bb7d069eed10d302": {
      "model_module": "@jupyter-widgets/base",
      "model_module_version": "1.2.0",
      "model_name": "LayoutModel",
      "state": {
       "grid_area": "right",
       "padding": "0px 0px 0px 0px",
       "width": "70px"
      }
     },
     "50c13de11dae4b3f849596d1b636dbf9": {
      "model_module": "@jupyter-widgets/controls",
      "model_module_version": "1.5.0",
      "model_name": "DescriptionStyleModel",
      "state": {
       "description_width": ""
      }
     },
     "510435ac612546ae82646ea064f23810": {
      "model_module": "@jupyter-widgets/controls",
      "model_module_version": "1.5.0",
      "model_name": "GridBoxModel",
      "state": {
       "children": [
        "IPY_MODEL_dc09277d4f1444ab8346523f52ff2ec3"
       ],
       "layout": "IPY_MODEL_07d244fa58364735afbc0d828c1f57a1"
      }
     },
     "535063fe1ca34678b3ac8a145a1f9424": {
      "model_module": "@jupyter-widgets/controls",
      "model_module_version": "1.5.0",
      "model_name": "HTMLModel",
      "state": {
       "layout": "IPY_MODEL_4d13a944cfe348f499ec2070c63a1b98",
       "style": "IPY_MODEL_50c13de11dae4b3f849596d1b636dbf9",
       "value": "<p style='font-family: IBM Plex Sans, Arial, Helvetica, sans-serif; font-size: 20px; font-weight: medium;'>Circuit Properties</p>"
      }
     },
     "618edcc7e92e499d89ba941e5c8f4fdc": {
      "model_module": "@jupyter-widgets/controls",
      "model_module_version": "1.5.0",
      "model_name": "DescriptionStyleModel",
      "state": {
       "description_width": ""
      }
     },
     "714b0d708f48477a93fca5cee15be7f4": {
      "model_module": "@jupyter-widgets/controls",
      "model_module_version": "1.5.0",
      "model_name": "DescriptionStyleModel",
      "state": {
       "description_width": ""
      }
     },
     "72fd1723543548b9883e94b33b9cbb1b": {
      "model_module": "@jupyter-widgets/controls",
      "model_module_version": "1.5.0",
      "model_name": "HTMLModel",
      "state": {
       "layout": "IPY_MODEL_d31b5a3958eb493ba67d0d72956b56fb",
       "style": "IPY_MODEL_14a7dad1db814ef28fec1b03e941811b",
       "value": "<h5>Status</h5>"
      }
     },
     "9833bb84f4d848a983ad2bebd5a6f54a": {
      "model_module": "@jupyter-widgets/controls",
      "model_module_version": "1.5.0",
      "model_name": "HTMLModel",
      "state": {
       "layout": "IPY_MODEL_10fdfb06128b4172a10d3e3d123553c7",
       "style": "IPY_MODEL_618edcc7e92e499d89ba941e5c8f4fdc",
       "value": "<h5>Message</h5>"
      }
     },
     "9872fa4f99144169be74bbc4b0a4024f": {
      "model_module": "@jupyter-widgets/base",
      "model_module_version": "1.2.0",
      "model_name": "LayoutModel",
      "state": {
       "width": "70px"
      }
     },
     "9ec218ff2c4c441aa14752d1dde37511": {
      "model_module": "@jupyter-widgets/controls",
      "model_module_version": "1.5.0",
      "model_name": "HBoxModel",
      "state": {
       "children": [
        "IPY_MODEL_efac9b24eb9c494e93c89529c3845a2b",
        "IPY_MODEL_093111abfba64cf3b5f359c882e11f2b",
        "IPY_MODEL_72fd1723543548b9883e94b33b9cbb1b",
        "IPY_MODEL_426017c7d103411c81aec6de3b5eb336",
        "IPY_MODEL_9833bb84f4d848a983ad2bebd5a6f54a"
       ],
       "layout": "IPY_MODEL_2abdfbcf62f54f31a31d5923f0bbef7f"
      }
     },
     "d31b5a3958eb493ba67d0d72956b56fb": {
      "model_module": "@jupyter-widgets/base",
      "model_module_version": "1.2.0",
      "model_name": "LayoutModel",
      "state": {
       "width": "95px"
      }
     },
     "dc09277d4f1444ab8346523f52ff2ec3": {
      "model_module": "@jupyter-widgets/controls",
      "model_module_version": "1.5.0",
      "model_name": "ButtonModel",
      "state": {
       "button_style": "primary",
       "description": "Clear",
       "layout": "IPY_MODEL_4e56708bcb904770bb7d069eed10d302",
       "style": "IPY_MODEL_2f94142cc2554c5a949cddd1e677b945"
      }
     },
     "ded72d4fee124e41a29aef51d41a9399": {
      "model_module": "@jupyter-widgets/base",
      "model_module_version": "1.2.0",
      "model_name": "LayoutModel",
      "state": {
       "width": "190px"
      }
     },
     "efac9b24eb9c494e93c89529c3845a2b": {
      "model_module": "@jupyter-widgets/controls",
      "model_module_version": "1.5.0",
      "model_name": "HTMLModel",
      "state": {
       "layout": "IPY_MODEL_ded72d4fee124e41a29aef51d41a9399",
       "style": "IPY_MODEL_714b0d708f48477a93fca5cee15be7f4",
       "value": "<h5>Job ID</h5>"
      }
     }
    },
    "version_major": 2,
    "version_minor": 0
   }
  }
 },
 "nbformat": 4,
 "nbformat_minor": 5
}
